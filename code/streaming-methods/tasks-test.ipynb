{
 "metadata": {
  "language_info": {
   "codemirror_mode": {
    "name": "ipython",
    "version": 3
   },
   "file_extension": ".py",
   "mimetype": "text/x-python",
   "name": "python",
   "nbconvert_exporter": "python",
   "pygments_lexer": "ipython3",
   "version": "3.8.8"
  },
  "orig_nbformat": 2,
  "kernelspec": {
   "name": "python388jvsc74a57bd0a752506d08a2db2588cabee7e1154dbf2a4aac5d1806b4906277fda6208a74b1",
   "display_name": "Python 3.8.8 64-bit ('pyinflux': conda)"
  },
  "metadata": {
   "interpreter": {
    "hash": "a752506d08a2db2588cabee7e1154dbf2a4aac5d1806b4906277fda6208a74b1"
   }
  }
 },
 "nbformat": 4,
 "nbformat_minor": 2,
 "cells": [
  {
   "source": [
    "This file is just used to test queries used when testing InfluxDB Tasks."
   ],
   "cell_type": "markdown",
   "metadata": {}
  },
  {
   "cell_type": "code",
   "execution_count": 1,
   "metadata": {},
   "outputs": [],
   "source": [
    "import pandas as pd\n",
    "import influxdb_client\n",
    "from datetime import timezone, datetime\n",
    "import pytz\n",
    "import matplotlib.pyplot as plt\n",
    "%matplotlib inline"
   ]
  },
  {
   "cell_type": "code",
   "execution_count": 2,
   "metadata": {},
   "outputs": [],
   "source": [
    "# Define a few variables with the name of your bucket, organization, and token.\n",
    "# Note that these are based on using the docker setup in /code/docker-files/two-telegraf/\n",
    "bucket = \"mybucket\"\n",
    "org = \"myorg\"\n",
    "token = \"mytoken\"\n",
    "url=\"http://localhost:8086\""
   ]
  },
  {
   "cell_type": "code",
   "execution_count": 14,
   "metadata": {},
   "outputs": [],
   "source": [
    "#Instantiate the client.\n",
    "client = influxdb_client.InfluxDBClient(url=url, token=token, org=org)\n",
    "\n",
    "#Create a Flux query.\n",
    "    #Flux documentation https://docs.influxdata.com/influxdb/v2.0/reference/flux/\n",
    "query = '''from(bucket: \"mybucket\")\n",
    "  |> range(start: -10s, stop: now())\n",
    "  |> filter(fn: (r) => r._measurement == \"cpu\")\n",
    "  |> filter(fn: (r) => r.cpu == \"cpu-total\")\n",
    "  |> keep(columns: [\"_time\", \"_value\"])'''\n",
    "\n",
    "##Instantiate the query client. Specify org and query.\n",
    "result = client.query_api().query_data_frame(org=org, query=query)"
   ]
  },
  {
   "cell_type": "code",
   "execution_count": 15,
   "metadata": {},
   "outputs": [
    {
     "output_type": "execute_result",
     "data": {
      "text/plain": [
       "    result table                     _time     _value\n",
       "0  _result     0 2021-05-12 18:54:50+00:00   0.000000\n",
       "1  _result     0 2021-05-12 18:54:50+00:00   0.000000\n",
       "2  _result     0 2021-05-12 18:54:50+00:00  99.858298\n",
       "3  _result     0 2021-05-12 18:54:50+00:00   0.000000\n",
       "4  _result     0 2021-05-12 18:54:50+00:00   0.000000\n",
       "5  _result     0 2021-05-12 18:54:50+00:00   0.000000\n",
       "6  _result     0 2021-05-12 18:54:50+00:00   0.000000\n",
       "7  _result     0 2021-05-12 18:54:50+00:00   0.000000\n",
       "8  _result     0 2021-05-12 18:54:50+00:00   0.133367\n",
       "9  _result     0 2021-05-12 18:54:50+00:00   0.008335"
      ],
      "text/html": "<div>\n<style scoped>\n    .dataframe tbody tr th:only-of-type {\n        vertical-align: middle;\n    }\n\n    .dataframe tbody tr th {\n        vertical-align: top;\n    }\n\n    .dataframe thead th {\n        text-align: right;\n    }\n</style>\n<table border=\"1\" class=\"dataframe\">\n  <thead>\n    <tr style=\"text-align: right;\">\n      <th></th>\n      <th>result</th>\n      <th>table</th>\n      <th>_time</th>\n      <th>_value</th>\n    </tr>\n  </thead>\n  <tbody>\n    <tr>\n      <th>0</th>\n      <td>_result</td>\n      <td>0</td>\n      <td>2021-05-12 18:54:50+00:00</td>\n      <td>0.000000</td>\n    </tr>\n    <tr>\n      <th>1</th>\n      <td>_result</td>\n      <td>0</td>\n      <td>2021-05-12 18:54:50+00:00</td>\n      <td>0.000000</td>\n    </tr>\n    <tr>\n      <th>2</th>\n      <td>_result</td>\n      <td>0</td>\n      <td>2021-05-12 18:54:50+00:00</td>\n      <td>99.858298</td>\n    </tr>\n    <tr>\n      <th>3</th>\n      <td>_result</td>\n      <td>0</td>\n      <td>2021-05-12 18:54:50+00:00</td>\n      <td>0.000000</td>\n    </tr>\n    <tr>\n      <th>4</th>\n      <td>_result</td>\n      <td>0</td>\n      <td>2021-05-12 18:54:50+00:00</td>\n      <td>0.000000</td>\n    </tr>\n    <tr>\n      <th>5</th>\n      <td>_result</td>\n      <td>0</td>\n      <td>2021-05-12 18:54:50+00:00</td>\n      <td>0.000000</td>\n    </tr>\n    <tr>\n      <th>6</th>\n      <td>_result</td>\n      <td>0</td>\n      <td>2021-05-12 18:54:50+00:00</td>\n      <td>0.000000</td>\n    </tr>\n    <tr>\n      <th>7</th>\n      <td>_result</td>\n      <td>0</td>\n      <td>2021-05-12 18:54:50+00:00</td>\n      <td>0.000000</td>\n    </tr>\n    <tr>\n      <th>8</th>\n      <td>_result</td>\n      <td>0</td>\n      <td>2021-05-12 18:54:50+00:00</td>\n      <td>0.133367</td>\n    </tr>\n    <tr>\n      <th>9</th>\n      <td>_result</td>\n      <td>0</td>\n      <td>2021-05-12 18:54:50+00:00</td>\n      <td>0.008335</td>\n    </tr>\n  </tbody>\n</table>\n</div>"
     },
     "metadata": {},
     "execution_count": 15
    }
   ],
   "source": [
    "result"
   ]
  },
  {
   "cell_type": "code",
   "execution_count": 22,
   "metadata": {},
   "outputs": [],
   "source": [
    "client = influxdb_client.InfluxDBClient(url=\"http://localhost:8086\", token=\"mytoken\", org=\"myorg\")\n",
    "query_api = client.query_api()"
   ]
  },
  {
   "cell_type": "code",
   "execution_count": 23,
   "metadata": {},
   "outputs": [],
   "source": [
    "tables = query_api.query('from(bucket:\"mybucket\") |> range(start: -10m)')"
   ]
  },
  {
   "cell_type": "code",
   "execution_count": 24,
   "metadata": {
    "tags": [
     "outputPrepend"
    ]
   },
   "outputs": [
    {
     "output_type": "stream",
     "name": "stdout",
     "text": [
      "40, tzinfo=tzutc()), '_value': 0, '_field': 'write_back_tmp', '_measurement': 'mem', 'host': 'e02c39ad8a65', 'user': 'rando'}\n",
      "{'result': '_result', 'table': 33, '_start': datetime.datetime(2021, 5, 11, 21, 37, 0, 854052, tzinfo=tzutc()), '_stop': datetime.datetime(2021, 5, 11, 21, 47, 0, 854052, tzinfo=tzutc()), '_time': datetime.datetime(2021, 5, 11, 21, 37, 50, tzinfo=tzutc()), '_value': 0, '_field': 'write_back_tmp', '_measurement': 'mem', 'host': 'e02c39ad8a65', 'user': 'rando'}\n",
      "{'result': '_result', 'table': 33, '_start': datetime.datetime(2021, 5, 11, 21, 37, 0, 854052, tzinfo=tzutc()), '_stop': datetime.datetime(2021, 5, 11, 21, 47, 0, 854052, tzinfo=tzutc()), '_time': datetime.datetime(2021, 5, 11, 21, 38, tzinfo=tzutc()), '_value': 0, '_field': 'write_back_tmp', '_measurement': 'mem', 'host': 'e02c39ad8a65', 'user': 'rando'}\n",
      "{'result': '_result', 'table': 33, '_start': datetime.datetime(2021, 5, 11, 21, 37, 0, 854052, tzinfo=tzutc()), '_stop': datetime.datetime(2021, 5, 11, 21, 47, 0, 854052, tzinfo=tzutc()), '_time': datetime.datetime(2021, 5, 11, 21, 38, 10, tzinfo=tzutc()), '_value': 0, '_field': 'write_back_tmp', '_measurement': 'mem', 'host': 'e02c39ad8a65', 'user': 'rando'}\n",
      "{'result': '_result', 'table': 33, '_start': datetime.datetime(2021, 5, 11, 21, 37, 0, 854052, tzinfo=tzutc()), '_stop': datetime.datetime(2021, 5, 11, 21, 47, 0, 854052, tzinfo=tzutc()), '_time': datetime.datetime(2021, 5, 11, 21, 38, 20, tzinfo=tzutc()), '_value': 0, '_field': 'write_back_tmp', '_measurement': 'mem', 'host': 'e02c39ad8a65', 'user': 'rando'}\n",
      "{'result': '_result', 'table': 33, '_start': datetime.datetime(2021, 5, 11, 21, 37, 0, 854052, tzinfo=tzutc()), '_stop': datetime.datetime(2021, 5, 11, 21, 47, 0, 854052, tzinfo=tzutc()), '_time': datetime.datetime(2021, 5, 11, 21, 38, 30, tzinfo=tzutc()), '_value': 0, '_field': 'write_back_tmp', '_measurement': 'mem', 'host': 'e02c39ad8a65', 'user': 'rando'}\n",
      "{'result': '_result', 'table': 33, '_start': datetime.datetime(2021, 5, 11, 21, 37, 0, 854052, tzinfo=tzutc()), '_stop': datetime.datetime(2021, 5, 11, 21, 47, 0, 854052, tzinfo=tzutc()), '_time': datetime.datetime(2021, 5, 11, 21, 38, 40, tzinfo=tzutc()), '_value': 0, '_field': 'write_back_tmp', '_measurement': 'mem', 'host': 'e02c39ad8a65', 'user': 'rando'}\n",
      "{'result': '_result', 'table': 33, '_start': datetime.datetime(2021, 5, 11, 21, 37, 0, 854052, tzinfo=tzutc()), '_stop': datetime.datetime(2021, 5, 11, 21, 47, 0, 854052, tzinfo=tzutc()), '_time': datetime.datetime(2021, 5, 11, 21, 38, 50, tzinfo=tzutc()), '_value': 0, '_field': 'write_back_tmp', '_measurement': 'mem', 'host': 'e02c39ad8a65', 'user': 'rando'}\n",
      "{'result': '_result', 'table': 33, '_start': datetime.datetime(2021, 5, 11, 21, 37, 0, 854052, tzinfo=tzutc()), '_stop': datetime.datetime(2021, 5, 11, 21, 47, 0, 854052, tzinfo=tzutc()), '_time': datetime.datetime(2021, 5, 11, 21, 39, tzinfo=tzutc()), '_value': 0, '_field': 'write_back_tmp', '_measurement': 'mem', 'host': 'e02c39ad8a65', 'user': 'rando'}\n",
      "{'result': '_result', 'table': 33, '_start': datetime.datetime(2021, 5, 11, 21, 37, 0, 854052, tzinfo=tzutc()), '_stop': datetime.datetime(2021, 5, 11, 21, 47, 0, 854052, tzinfo=tzutc()), '_time': datetime.datetime(2021, 5, 11, 21, 39, 10, tzinfo=tzutc()), '_value': 0, '_field': 'write_back_tmp', '_measurement': 'mem', 'host': 'e02c39ad8a65', 'user': 'rando'}\n",
      "{'result': '_result', 'table': 33, '_start': datetime.datetime(2021, 5, 11, 21, 37, 0, 854052, tzinfo=tzutc()), '_stop': datetime.datetime(2021, 5, 11, 21, 47, 0, 854052, tzinfo=tzutc()), '_time': datetime.datetime(2021, 5, 11, 21, 39, 20, tzinfo=tzutc()), '_value': 0, '_field': 'write_back_tmp', '_measurement': 'mem', 'host': 'e02c39ad8a65', 'user': 'rando'}\n",
      "{'result': '_result', 'table': 33, '_start': datetime.datetime(2021, 5, 11, 21, 37, 0, 854052, tzinfo=tzutc()), '_stop': datetime.datetime(2021, 5, 11, 21, 47, 0, 854052, tzinfo=tzutc()), '_time': datetime.datetime(2021, 5, 11, 21, 39, 30, tzinfo=tzutc()), '_value': 0, '_field': 'write_back_tmp', '_measurement': 'mem', 'host': 'e02c39ad8a65', 'user': 'rando'}\n",
      "{'result': '_result', 'table': 33, '_start': datetime.datetime(2021, 5, 11, 21, 37, 0, 854052, tzinfo=tzutc()), '_stop': datetime.datetime(2021, 5, 11, 21, 47, 0, 854052, tzinfo=tzutc()), '_time': datetime.datetime(2021, 5, 11, 21, 39, 40, tzinfo=tzutc()), '_value': 0, '_field': 'write_back_tmp', '_measurement': 'mem', 'host': 'e02c39ad8a65', 'user': 'rando'}\n",
      "{'result': '_result', 'table': 33, '_start': datetime.datetime(2021, 5, 11, 21, 37, 0, 854052, tzinfo=tzutc()), '_stop': datetime.datetime(2021, 5, 11, 21, 47, 0, 854052, tzinfo=tzutc()), '_time': datetime.datetime(2021, 5, 11, 21, 39, 50, tzinfo=tzutc()), '_value': 0, '_field': 'write_back_tmp', '_measurement': 'mem', 'host': 'e02c39ad8a65', 'user': 'rando'}\n",
      "{'result': '_result', 'table': 33, '_start': datetime.datetime(2021, 5, 11, 21, 37, 0, 854052, tzinfo=tzutc()), '_stop': datetime.datetime(2021, 5, 11, 21, 47, 0, 854052, tzinfo=tzutc()), '_time': datetime.datetime(2021, 5, 11, 21, 40, tzinfo=tzutc()), '_value': 0, '_field': 'write_back_tmp', '_measurement': 'mem', 'host': 'e02c39ad8a65', 'user': 'rando'}\n",
      "{'result': '_result', 'table': 33, '_start': datetime.datetime(2021, 5, 11, 21, 37, 0, 854052, tzinfo=tzutc()), '_stop': datetime.datetime(2021, 5, 11, 21, 47, 0, 854052, tzinfo=tzutc()), '_time': datetime.datetime(2021, 5, 11, 21, 40, 10, tzinfo=tzutc()), '_value': 0, '_field': 'write_back_tmp', '_measurement': 'mem', 'host': 'e02c39ad8a65', 'user': 'rando'}\n",
      "{'result': '_result', 'table': 33, '_start': datetime.datetime(2021, 5, 11, 21, 37, 0, 854052, tzinfo=tzutc()), '_stop': datetime.datetime(2021, 5, 11, 21, 47, 0, 854052, tzinfo=tzutc()), '_time': datetime.datetime(2021, 5, 11, 21, 40, 20, tzinfo=tzutc()), '_value': 0, '_field': 'write_back_tmp', '_measurement': 'mem', 'host': 'e02c39ad8a65', 'user': 'rando'}\n",
      "{'result': '_result', 'table': 33, '_start': datetime.datetime(2021, 5, 11, 21, 37, 0, 854052, tzinfo=tzutc()), '_stop': datetime.datetime(2021, 5, 11, 21, 47, 0, 854052, tzinfo=tzutc()), '_time': datetime.datetime(2021, 5, 11, 21, 40, 30, tzinfo=tzutc()), '_value': 0, '_field': 'write_back_tmp', '_measurement': 'mem', 'host': 'e02c39ad8a65', 'user': 'rando'}\n",
      "{'result': '_result', 'table': 33, '_start': datetime.datetime(2021, 5, 11, 21, 37, 0, 854052, tzinfo=tzutc()), '_stop': datetime.datetime(2021, 5, 11, 21, 47, 0, 854052, tzinfo=tzutc()), '_time': datetime.datetime(2021, 5, 11, 21, 40, 40, tzinfo=tzutc()), '_value': 0, '_field': 'write_back_tmp', '_measurement': 'mem', 'host': 'e02c39ad8a65', 'user': 'rando'}\n",
      "{'result': '_result', 'table': 33, '_start': datetime.datetime(2021, 5, 11, 21, 37, 0, 854052, tzinfo=tzutc()), '_stop': datetime.datetime(2021, 5, 11, 21, 47, 0, 854052, tzinfo=tzutc()), '_time': datetime.datetime(2021, 5, 11, 21, 40, 50, tzinfo=tzutc()), '_value': 0, '_field': 'write_back_tmp', '_measurement': 'mem', 'host': 'e02c39ad8a65', 'user': 'rando'}\n",
      "{'result': '_result', 'table': 33, '_start': datetime.datetime(2021, 5, 11, 21, 37, 0, 854052, tzinfo=tzutc()), '_stop': datetime.datetime(2021, 5, 11, 21, 47, 0, 854052, tzinfo=tzutc()), '_time': datetime.datetime(2021, 5, 11, 21, 41, tzinfo=tzutc()), '_value': 0, '_field': 'write_back_tmp', '_measurement': 'mem', 'host': 'e02c39ad8a65', 'user': 'rando'}\n",
      "{'result': '_result', 'table': 33, '_start': datetime.datetime(2021, 5, 11, 21, 37, 0, 854052, tzinfo=tzutc()), '_stop': datetime.datetime(2021, 5, 11, 21, 47, 0, 854052, tzinfo=tzutc()), '_time': datetime.datetime(2021, 5, 11, 21, 41, 10, tzinfo=tzutc()), '_value': 0, '_field': 'write_back_tmp', '_measurement': 'mem', 'host': 'e02c39ad8a65', 'user': 'rando'}\n",
      "{'result': '_result', 'table': 33, '_start': datetime.datetime(2021, 5, 11, 21, 37, 0, 854052, tzinfo=tzutc()), '_stop': datetime.datetime(2021, 5, 11, 21, 47, 0, 854052, tzinfo=tzutc()), '_time': datetime.datetime(2021, 5, 11, 21, 41, 20, tzinfo=tzutc()), '_value': 0, '_field': 'write_back_tmp', '_measurement': 'mem', 'host': 'e02c39ad8a65', 'user': 'rando'}\n",
      "{'result': '_result', 'table': 33, '_start': datetime.datetime(2021, 5, 11, 21, 37, 0, 854052, tzinfo=tzutc()), '_stop': datetime.datetime(2021, 5, 11, 21, 47, 0, 854052, tzinfo=tzutc()), '_time': datetime.datetime(2021, 5, 11, 21, 41, 30, tzinfo=tzutc()), '_value': 0, '_field': 'write_back_tmp', '_measurement': 'mem', 'host': 'e02c39ad8a65', 'user': 'rando'}\n",
      "{'result': '_result', 'table': 33, '_start': datetime.datetime(2021, 5, 11, 21, 37, 0, 854052, tzinfo=tzutc()), '_stop': datetime.datetime(2021, 5, 11, 21, 47, 0, 854052, tzinfo=tzutc()), '_time': datetime.datetime(2021, 5, 11, 21, 41, 40, tzinfo=tzutc()), '_value': 0, '_field': 'write_back_tmp', '_measurement': 'mem', 'host': 'e02c39ad8a65', 'user': 'rando'}\n",
      "{'result': '_result', 'table': 33, '_start': datetime.datetime(2021, 5, 11, 21, 37, 0, 854052, tzinfo=tzutc()), '_stop': datetime.datetime(2021, 5, 11, 21, 47, 0, 854052, tzinfo=tzutc()), '_time': datetime.datetime(2021, 5, 11, 21, 41, 50, tzinfo=tzutc()), '_value': 0, '_field': 'write_back_tmp', '_measurement': 'mem', 'host': 'e02c39ad8a65', 'user': 'rando'}\n",
      "{'result': '_result', 'table': 33, '_start': datetime.datetime(2021, 5, 11, 21, 37, 0, 854052, tzinfo=tzutc()), '_stop': datetime.datetime(2021, 5, 11, 21, 47, 0, 854052, tzinfo=tzutc()), '_time': datetime.datetime(2021, 5, 11, 21, 42, tzinfo=tzutc()), '_value': 0, '_field': 'write_back_tmp', '_measurement': 'mem', 'host': 'e02c39ad8a65', 'user': 'rando'}\n",
      "{'result': '_result', 'table': 33, '_start': datetime.datetime(2021, 5, 11, 21, 37, 0, 854052, tzinfo=tzutc()), '_stop': datetime.datetime(2021, 5, 11, 21, 47, 0, 854052, tzinfo=tzutc()), '_time': datetime.datetime(2021, 5, 11, 21, 42, 10, tzinfo=tzutc()), '_value': 0, '_field': 'write_back_tmp', '_measurement': 'mem', 'host': 'e02c39ad8a65', 'user': 'rando'}\n",
      "{'result': '_result', 'table': 33, '_start': datetime.datetime(2021, 5, 11, 21, 37, 0, 854052, tzinfo=tzutc()), '_stop': datetime.datetime(2021, 5, 11, 21, 47, 0, 854052, tzinfo=tzutc()), '_time': datetime.datetime(2021, 5, 11, 21, 42, 20, tzinfo=tzutc()), '_value': 0, '_field': 'write_back_tmp', '_measurement': 'mem', 'host': 'e02c39ad8a65', 'user': 'rando'}\n",
      "{'result': '_result', 'table': 33, '_start': datetime.datetime(2021, 5, 11, 21, 37, 0, 854052, tzinfo=tzutc()), '_stop': datetime.datetime(2021, 5, 11, 21, 47, 0, 854052, tzinfo=tzutc()), '_time': datetime.datetime(2021, 5, 11, 21, 42, 30, tzinfo=tzutc()), '_value': 0, '_field': 'write_back_tmp', '_measurement': 'mem', 'host': 'e02c39ad8a65', 'user': 'rando'}\n",
      "{'result': '_result', 'table': 33, '_start': datetime.datetime(2021, 5, 11, 21, 37, 0, 854052, tzinfo=tzutc()), '_stop': datetime.datetime(2021, 5, 11, 21, 47, 0, 854052, tzinfo=tzutc()), '_time': datetime.datetime(2021, 5, 11, 21, 42, 40, tzinfo=tzutc()), '_value': 0, '_field': 'write_back_tmp', '_measurement': 'mem', 'host': 'e02c39ad8a65', 'user': 'rando'}\n",
      "{'result': '_result', 'table': 33, '_start': datetime.datetime(2021, 5, 11, 21, 37, 0, 854052, tzinfo=tzutc()), '_stop': datetime.datetime(2021, 5, 11, 21, 47, 0, 854052, tzinfo=tzutc()), '_time': datetime.datetime(2021, 5, 11, 21, 42, 50, tzinfo=tzutc()), '_value': 0, '_field': 'write_back_tmp', '_measurement': 'mem', 'host': 'e02c39ad8a65', 'user': 'rando'}\n",
      "{'result': '_result', 'table': 33, '_start': datetime.datetime(2021, 5, 11, 21, 37, 0, 854052, tzinfo=tzutc()), '_stop': datetime.datetime(2021, 5, 11, 21, 47, 0, 854052, tzinfo=tzutc()), '_time': datetime.datetime(2021, 5, 11, 21, 43, tzinfo=tzutc()), '_value': 0, '_field': 'write_back_tmp', '_measurement': 'mem', 'host': 'e02c39ad8a65', 'user': 'rando'}\n",
      "{'result': '_result', 'table': 33, '_start': datetime.datetime(2021, 5, 11, 21, 37, 0, 854052, tzinfo=tzutc()), '_stop': datetime.datetime(2021, 5, 11, 21, 47, 0, 854052, tzinfo=tzutc()), '_time': datetime.datetime(2021, 5, 11, 21, 43, 10, tzinfo=tzutc()), '_value': 0, '_field': 'write_back_tmp', '_measurement': 'mem', 'host': 'e02c39ad8a65', 'user': 'rando'}\n",
      "{'result': '_result', 'table': 33, '_start': datetime.datetime(2021, 5, 11, 21, 37, 0, 854052, tzinfo=tzutc()), '_stop': datetime.datetime(2021, 5, 11, 21, 47, 0, 854052, tzinfo=tzutc()), '_time': datetime.datetime(2021, 5, 11, 21, 43, 20, tzinfo=tzutc()), '_value': 0, '_field': 'write_back_tmp', '_measurement': 'mem', 'host': 'e02c39ad8a65', 'user': 'rando'}\n",
      "{'result': '_result', 'table': 33, '_start': datetime.datetime(2021, 5, 11, 21, 37, 0, 854052, tzinfo=tzutc()), '_stop': datetime.datetime(2021, 5, 11, 21, 47, 0, 854052, tzinfo=tzutc()), '_time': datetime.datetime(2021, 5, 11, 21, 43, 30, tzinfo=tzutc()), '_value': 0, '_field': 'write_back_tmp', '_measurement': 'mem', 'host': 'e02c39ad8a65', 'user': 'rando'}\n",
      "{'result': '_result', 'table': 33, '_start': datetime.datetime(2021, 5, 11, 21, 37, 0, 854052, tzinfo=tzutc()), '_stop': datetime.datetime(2021, 5, 11, 21, 47, 0, 854052, tzinfo=tzutc()), '_time': datetime.datetime(2021, 5, 11, 21, 43, 40, tzinfo=tzutc()), '_value': 0, '_field': 'write_back_tmp', '_measurement': 'mem', 'host': 'e02c39ad8a65', 'user': 'rando'}\n",
      "{'result': '_result', 'table': 33, '_start': datetime.datetime(2021, 5, 11, 21, 37, 0, 854052, tzinfo=tzutc()), '_stop': datetime.datetime(2021, 5, 11, 21, 47, 0, 854052, tzinfo=tzutc()), '_time': datetime.datetime(2021, 5, 11, 21, 43, 50, tzinfo=tzutc()), '_value': 0, '_field': 'write_back_tmp', '_measurement': 'mem', 'host': 'e02c39ad8a65', 'user': 'rando'}\n",
      "{'result': '_result', 'table': 33, '_start': datetime.datetime(2021, 5, 11, 21, 37, 0, 854052, tzinfo=tzutc()), '_stop': datetime.datetime(2021, 5, 11, 21, 47, 0, 854052, tzinfo=tzutc()), '_time': datetime.datetime(2021, 5, 11, 21, 44, tzinfo=tzutc()), '_value': 0, '_field': 'write_back_tmp', '_measurement': 'mem', 'host': 'e02c39ad8a65', 'user': 'rando'}\n",
      "{'result': '_result', 'table': 33, '_start': datetime.datetime(2021, 5, 11, 21, 37, 0, 854052, tzinfo=tzutc()), '_stop': datetime.datetime(2021, 5, 11, 21, 47, 0, 854052, tzinfo=tzutc()), '_time': datetime.datetime(2021, 5, 11, 21, 44, 10, tzinfo=tzutc()), '_value': 0, '_field': 'write_back_tmp', '_measurement': 'mem', 'host': 'e02c39ad8a65', 'user': 'rando'}\n",
      "{'result': '_result', 'table': 33, '_start': datetime.datetime(2021, 5, 11, 21, 37, 0, 854052, tzinfo=tzutc()), '_stop': datetime.datetime(2021, 5, 11, 21, 47, 0, 854052, tzinfo=tzutc()), '_time': datetime.datetime(2021, 5, 11, 21, 44, 20, tzinfo=tzutc()), '_value': 0, '_field': 'write_back_tmp', '_measurement': 'mem', 'host': 'e02c39ad8a65', 'user': 'rando'}\n",
      "{'result': '_result', 'table': 33, '_start': datetime.datetime(2021, 5, 11, 21, 37, 0, 854052, tzinfo=tzutc()), '_stop': datetime.datetime(2021, 5, 11, 21, 47, 0, 854052, tzinfo=tzutc()), '_time': datetime.datetime(2021, 5, 11, 21, 44, 30, tzinfo=tzutc()), '_value': 0, '_field': 'write_back_tmp', '_measurement': 'mem', 'host': 'e02c39ad8a65', 'user': 'rando'}\n",
      "{'result': '_result', 'table': 33, '_start': datetime.datetime(2021, 5, 11, 21, 37, 0, 854052, tzinfo=tzutc()), '_stop': datetime.datetime(2021, 5, 11, 21, 47, 0, 854052, tzinfo=tzutc()), '_time': datetime.datetime(2021, 5, 11, 21, 44, 40, tzinfo=tzutc()), '_value': 0, '_field': 'write_back_tmp', '_measurement': 'mem', 'host': 'e02c39ad8a65', 'user': 'rando'}\n",
      "{'result': '_result', 'table': 33, '_start': datetime.datetime(2021, 5, 11, 21, 37, 0, 854052, tzinfo=tzutc()), '_stop': datetime.datetime(2021, 5, 11, 21, 47, 0, 854052, tzinfo=tzutc()), '_time': datetime.datetime(2021, 5, 11, 21, 44, 50, tzinfo=tzutc()), '_value': 0, '_field': 'write_back_tmp', '_measurement': 'mem', 'host': 'e02c39ad8a65', 'user': 'rando'}\n",
      "{'result': '_result', 'table': 33, '_start': datetime.datetime(2021, 5, 11, 21, 37, 0, 854052, tzinfo=tzutc()), '_stop': datetime.datetime(2021, 5, 11, 21, 47, 0, 854052, tzinfo=tzutc()), '_time': datetime.datetime(2021, 5, 11, 21, 45, tzinfo=tzutc()), '_value': 0, '_field': 'write_back_tmp', '_measurement': 'mem', 'host': 'e02c39ad8a65', 'user': 'rando'}\n",
      "{'result': '_result', 'table': 33, '_start': datetime.datetime(2021, 5, 11, 21, 37, 0, 854052, tzinfo=tzutc()), '_stop': datetime.datetime(2021, 5, 11, 21, 47, 0, 854052, tzinfo=tzutc()), '_time': datetime.datetime(2021, 5, 11, 21, 45, 10, tzinfo=tzutc()), '_value': 0, '_field': 'write_back_tmp', '_measurement': 'mem', 'host': 'e02c39ad8a65', 'user': 'rando'}\n",
      "{'result': '_result', 'table': 33, '_start': datetime.datetime(2021, 5, 11, 21, 37, 0, 854052, tzinfo=tzutc()), '_stop': datetime.datetime(2021, 5, 11, 21, 47, 0, 854052, tzinfo=tzutc()), '_time': datetime.datetime(2021, 5, 11, 21, 45, 20, tzinfo=tzutc()), '_value': 0, '_field': 'write_back_tmp', '_measurement': 'mem', 'host': 'e02c39ad8a65', 'user': 'rando'}\n",
      "{'result': '_result', 'table': 33, '_start': datetime.datetime(2021, 5, 11, 21, 37, 0, 854052, tzinfo=tzutc()), '_stop': datetime.datetime(2021, 5, 11, 21, 47, 0, 854052, tzinfo=tzutc()), '_time': datetime.datetime(2021, 5, 11, 21, 45, 30, tzinfo=tzutc()), '_value': 0, '_field': 'write_back_tmp', '_measurement': 'mem', 'host': 'e02c39ad8a65', 'user': 'rando'}\n",
      "{'result': '_result', 'table': 33, '_start': datetime.datetime(2021, 5, 11, 21, 37, 0, 854052, tzinfo=tzutc()), '_stop': datetime.datetime(2021, 5, 11, 21, 47, 0, 854052, tzinfo=tzutc()), '_time': datetime.datetime(2021, 5, 11, 21, 45, 40, tzinfo=tzutc()), '_value': 0, '_field': 'write_back_tmp', '_measurement': 'mem', 'host': 'e02c39ad8a65', 'user': 'rando'}\n",
      "{'result': '_result', 'table': 33, '_start': datetime.datetime(2021, 5, 11, 21, 37, 0, 854052, tzinfo=tzutc()), '_stop': datetime.datetime(2021, 5, 11, 21, 47, 0, 854052, tzinfo=tzutc()), '_time': datetime.datetime(2021, 5, 11, 21, 45, 50, tzinfo=tzutc()), '_value': 0, '_field': 'write_back_tmp', '_measurement': 'mem', 'host': 'e02c39ad8a65', 'user': 'rando'}\n",
      "{'result': '_result', 'table': 33, '_start': datetime.datetime(2021, 5, 11, 21, 37, 0, 854052, tzinfo=tzutc()), '_stop': datetime.datetime(2021, 5, 11, 21, 47, 0, 854052, tzinfo=tzutc()), '_time': datetime.datetime(2021, 5, 11, 21, 46, tzinfo=tzutc()), '_value': 0, '_field': 'write_back_tmp', '_measurement': 'mem', 'host': 'e02c39ad8a65', 'user': 'rando'}\n",
      "{'result': '_result', 'table': 33, '_start': datetime.datetime(2021, 5, 11, 21, 37, 0, 854052, tzinfo=tzutc()), '_stop': datetime.datetime(2021, 5, 11, 21, 47, 0, 854052, tzinfo=tzutc()), '_time': datetime.datetime(2021, 5, 11, 21, 46, 10, tzinfo=tzutc()), '_value': 0, '_field': 'write_back_tmp', '_measurement': 'mem', 'host': 'e02c39ad8a65', 'user': 'rando'}\n",
      "{'result': '_result', 'table': 33, '_start': datetime.datetime(2021, 5, 11, 21, 37, 0, 854052, tzinfo=tzutc()), '_stop': datetime.datetime(2021, 5, 11, 21, 47, 0, 854052, tzinfo=tzutc()), '_time': datetime.datetime(2021, 5, 11, 21, 46, 20, tzinfo=tzutc()), '_value': 0, '_field': 'write_back_tmp', '_measurement': 'mem', 'host': 'e02c39ad8a65', 'user': 'rando'}\n",
      "{'result': '_result', 'table': 33, '_start': datetime.datetime(2021, 5, 11, 21, 37, 0, 854052, tzinfo=tzutc()), '_stop': datetime.datetime(2021, 5, 11, 21, 47, 0, 854052, tzinfo=tzutc()), '_time': datetime.datetime(2021, 5, 11, 21, 46, 30, tzinfo=tzutc()), '_value': 0, '_field': 'write_back_tmp', '_measurement': 'mem', 'host': 'e02c39ad8a65', 'user': 'rando'}\n",
      "{'result': '_result', 'table': 33, '_start': datetime.datetime(2021, 5, 11, 21, 37, 0, 854052, tzinfo=tzutc()), '_stop': datetime.datetime(2021, 5, 11, 21, 47, 0, 854052, tzinfo=tzutc()), '_time': datetime.datetime(2021, 5, 11, 21, 46, 40, tzinfo=tzutc()), '_value': 0, '_field': 'write_back_tmp', '_measurement': 'mem', 'host': 'e02c39ad8a65', 'user': 'rando'}\n",
      "{'result': '_result', 'table': 33, '_start': datetime.datetime(2021, 5, 11, 21, 37, 0, 854052, tzinfo=tzutc()), '_stop': datetime.datetime(2021, 5, 11, 21, 47, 0, 854052, tzinfo=tzutc()), '_time': datetime.datetime(2021, 5, 11, 21, 46, 50, tzinfo=tzutc()), '_value': 0, '_field': 'write_back_tmp', '_measurement': 'mem', 'host': 'e02c39ad8a65', 'user': 'rando'}\n"
     ]
    }
   ],
   "source": [
    "for table in tables:\n",
    "    print(table)\n",
    "    for record in table.records:\n",
    "        print(record.values)"
   ]
  },
  {
   "cell_type": "code",
   "execution_count": 30,
   "metadata": {},
   "outputs": [
    {
     "output_type": "execute_result",
     "data": {
      "text/plain": [
       "<function list.count(value, /)>"
      ]
     },
     "metadata": {},
     "execution_count": 30
    }
   ],
   "source": [
    "tables.count"
   ]
  },
  {
   "cell_type": "code",
   "execution_count": null,
   "metadata": {},
   "outputs": [],
   "source": []
  }
 ]
}