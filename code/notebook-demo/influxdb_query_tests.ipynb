{
 "cells": [
  {
   "source": [
    "# Various InfluxDB Query/Write Function Testing"
   ],
   "cell_type": "markdown",
   "metadata": {}
  },
  {
   "cell_type": "code",
   "execution_count": 2,
   "metadata": {},
   "outputs": [],
   "source": [
    "import pandas as pd\n",
    "import influxdb_client\n",
    "import datetime\n",
    "from pytz import UTC\n",
    "import matplotlib.pyplot as plt\n",
    "%matplotlib inline"
   ]
  },
  {
   "source": [
    "## Look at various query types that can be done from InfluxDB using the influxdb_client\n",
    "\n",
    "The purpose of this is just to explore InfluxDB queries and the results they return."
   ],
   "cell_type": "markdown",
   "metadata": {}
  },
  {
   "cell_type": "code",
   "execution_count": 3,
   "metadata": {},
   "outputs": [],
   "source": [
    "# Define a few variables with the name of your bucket, organization, and token.\n",
    "bucket = \"SKYSPARK\"\n",
    "org = \"UBC\"\n",
    "# UDL provides public users READ access to the InfluxDB 2.0 instance via this token\n",
    "token = \"omUybYZ3QkGvuXXy0VwT-7hoO2SEFzhckXJ5k32K_GvG47yHQAi9JzZ1bii6r1HD5NKux3ZhHlKAyUfj6i61bA==\"\n",
    "url=\"http://206.12.92.81:8086/\""
   ]
  },
  {
   "cell_type": "code",
   "execution_count": 4,
   "metadata": {},
   "outputs": [],
   "source": [
    "# Instantiate the client.\n",
    "client = influxdb_client.InfluxDBClient(url=url, token=token, org=org)\n",
    "\n",
    "# Create a Flux query.\n",
    "    #Flux documentation https://docs.influxdata.com/influxdb/v2.0/reference/flux/\n",
    "    #You can generate Flux query using the Query Builder on http://206.12.92.81:8086/\n",
    "query = '''from(bucket: \"SKYSPARK\")\n",
    "  |> range(start: 2020-01-01T00:00:00Z, stop: now())\n",
    "  |> filter(fn: (r) => r[\"_measurement\"] == \"READINGS\")\n",
    "  |> filter(fn: (r) => r[\"siteRef\"] == \"Campus Energy Centre\")\n",
    "  |> filter(fn: (r) => r[\"_field\"] == \"val_num\")'''\n",
    "\n",
    "##Instantiate the query client. Specify org and query.\n",
    "result = client.query_api().query_data_frame(org=org, query=query)"
   ]
  },
  {
   "cell_type": "code",
   "execution_count": 5,
   "metadata": {},
   "outputs": [
    {
     "output_type": "execute_result",
     "data": {
      "text/plain": [
       "array(['r:p:ubcv:r:205b0343-70d7c00c Campus Energy Centre Campus HW Main Meter Energy',\n",
       "       'r:p:ubcv:r:205b17b3-76f4a76d Campus Energy Centre Campus HW Main Meter Entering Water Temperature',\n",
       "       'r:p:ubcv:r:205b03d6-b9859d31 Campus Energy Centre Campus HW Main Meter Flow',\n",
       "       'r:p:ubcv:r:205b1697-84986d73 Campus Energy Centre Campus HW Main Meter Leaving Water Temperature',\n",
       "       'r:p:ubcv:r:205b0392-31f31280 Campus Energy Centre Campus HW Main Meter Power'],\n",
       "      dtype=object)"
      ]
     },
     "metadata": {},
     "execution_count": 5
    }
   ],
   "source": [
    "# Check unique IDs in returned query\n",
    "result.uniqueID.unique()"
   ]
  },
  {
   "cell_type": "code",
   "execution_count": 6,
   "metadata": {},
   "outputs": [
    {
     "output_type": "execute_result",
     "data": {
      "text/plain": [
       "    result table                    _start                            _stop  \\\n",
       "0  _result     0 2020-01-01 00:00:00+00:00 2021-05-18 02:14:12.343793+00:00   \n",
       "1  _result     0 2020-01-01 00:00:00+00:00 2021-05-18 02:14:12.343793+00:00   \n",
       "2  _result     0 2020-01-01 00:00:00+00:00 2021-05-18 02:14:12.343793+00:00   \n",
       "3  _result     0 2020-01-01 00:00:00+00:00 2021-05-18 02:14:12.343793+00:00   \n",
       "4  _result     0 2020-01-01 00:00:00+00:00 2021-05-18 02:14:12.343793+00:00   \n",
       "\n",
       "                      _time   _value   _field _measurement  \\\n",
       "0 2020-06-23 01:30:00+00:00  0.50000  val_num     READINGS   \n",
       "1 2020-06-23 01:45:00+00:00  0.50000  val_num     READINGS   \n",
       "2 2020-06-23 02:00:00+00:00  0.59375  val_num     READINGS   \n",
       "3 2020-06-23 02:15:00+00:00  0.40625  val_num     READINGS   \n",
       "4 2020-06-23 02:30:00+00:00  0.59375  val_num     READINGS   \n",
       "\n",
       "               equipRef                        groupRef navName  \\\n",
       "0  Campus HW Main Meter  Campus Energy Centre Utilities  Energy   \n",
       "1  Campus HW Main Meter  Campus Energy Centre Utilities  Energy   \n",
       "2  Campus HW Main Meter  Campus Energy Centre Utilities  Energy   \n",
       "3  Campus HW Main Meter  Campus Energy Centre Utilities  Energy   \n",
       "4  Campus HW Main Meter  Campus Energy Centre Utilities  Energy   \n",
       "\n",
       "                siteRef typeRef  \\\n",
       "0  Campus Energy Centre  Energy   \n",
       "1  Campus Energy Centre  Energy   \n",
       "2  Campus Energy Centre  Energy   \n",
       "3  Campus Energy Centre  Energy   \n",
       "4  Campus Energy Centre  Energy   \n",
       "\n",
       "                                            uniqueID unit  \n",
       "0  r:p:ubcv:r:205b0343-70d7c00c Campus Energy Cen...  MWh  \n",
       "1  r:p:ubcv:r:205b0343-70d7c00c Campus Energy Cen...  MWh  \n",
       "2  r:p:ubcv:r:205b0343-70d7c00c Campus Energy Cen...  MWh  \n",
       "3  r:p:ubcv:r:205b0343-70d7c00c Campus Energy Cen...  MWh  \n",
       "4  r:p:ubcv:r:205b0343-70d7c00c Campus Energy Cen...  MWh  "
      ],
      "text/html": "<div>\n<style scoped>\n    .dataframe tbody tr th:only-of-type {\n        vertical-align: middle;\n    }\n\n    .dataframe tbody tr th {\n        vertical-align: top;\n    }\n\n    .dataframe thead th {\n        text-align: right;\n    }\n</style>\n<table border=\"1\" class=\"dataframe\">\n  <thead>\n    <tr style=\"text-align: right;\">\n      <th></th>\n      <th>result</th>\n      <th>table</th>\n      <th>_start</th>\n      <th>_stop</th>\n      <th>_time</th>\n      <th>_value</th>\n      <th>_field</th>\n      <th>_measurement</th>\n      <th>equipRef</th>\n      <th>groupRef</th>\n      <th>navName</th>\n      <th>siteRef</th>\n      <th>typeRef</th>\n      <th>uniqueID</th>\n      <th>unit</th>\n    </tr>\n  </thead>\n  <tbody>\n    <tr>\n      <th>0</th>\n      <td>_result</td>\n      <td>0</td>\n      <td>2020-01-01 00:00:00+00:00</td>\n      <td>2021-05-18 02:14:12.343793+00:00</td>\n      <td>2020-06-23 01:30:00+00:00</td>\n      <td>0.50000</td>\n      <td>val_num</td>\n      <td>READINGS</td>\n      <td>Campus HW Main Meter</td>\n      <td>Campus Energy Centre Utilities</td>\n      <td>Energy</td>\n      <td>Campus Energy Centre</td>\n      <td>Energy</td>\n      <td>r:p:ubcv:r:205b0343-70d7c00c Campus Energy Cen...</td>\n      <td>MWh</td>\n    </tr>\n    <tr>\n      <th>1</th>\n      <td>_result</td>\n      <td>0</td>\n      <td>2020-01-01 00:00:00+00:00</td>\n      <td>2021-05-18 02:14:12.343793+00:00</td>\n      <td>2020-06-23 01:45:00+00:00</td>\n      <td>0.50000</td>\n      <td>val_num</td>\n      <td>READINGS</td>\n      <td>Campus HW Main Meter</td>\n      <td>Campus Energy Centre Utilities</td>\n      <td>Energy</td>\n      <td>Campus Energy Centre</td>\n      <td>Energy</td>\n      <td>r:p:ubcv:r:205b0343-70d7c00c Campus Energy Cen...</td>\n      <td>MWh</td>\n    </tr>\n    <tr>\n      <th>2</th>\n      <td>_result</td>\n      <td>0</td>\n      <td>2020-01-01 00:00:00+00:00</td>\n      <td>2021-05-18 02:14:12.343793+00:00</td>\n      <td>2020-06-23 02:00:00+00:00</td>\n      <td>0.59375</td>\n      <td>val_num</td>\n      <td>READINGS</td>\n      <td>Campus HW Main Meter</td>\n      <td>Campus Energy Centre Utilities</td>\n      <td>Energy</td>\n      <td>Campus Energy Centre</td>\n      <td>Energy</td>\n      <td>r:p:ubcv:r:205b0343-70d7c00c Campus Energy Cen...</td>\n      <td>MWh</td>\n    </tr>\n    <tr>\n      <th>3</th>\n      <td>_result</td>\n      <td>0</td>\n      <td>2020-01-01 00:00:00+00:00</td>\n      <td>2021-05-18 02:14:12.343793+00:00</td>\n      <td>2020-06-23 02:15:00+00:00</td>\n      <td>0.40625</td>\n      <td>val_num</td>\n      <td>READINGS</td>\n      <td>Campus HW Main Meter</td>\n      <td>Campus Energy Centre Utilities</td>\n      <td>Energy</td>\n      <td>Campus Energy Centre</td>\n      <td>Energy</td>\n      <td>r:p:ubcv:r:205b0343-70d7c00c Campus Energy Cen...</td>\n      <td>MWh</td>\n    </tr>\n    <tr>\n      <th>4</th>\n      <td>_result</td>\n      <td>0</td>\n      <td>2020-01-01 00:00:00+00:00</td>\n      <td>2021-05-18 02:14:12.343793+00:00</td>\n      <td>2020-06-23 02:30:00+00:00</td>\n      <td>0.59375</td>\n      <td>val_num</td>\n      <td>READINGS</td>\n      <td>Campus HW Main Meter</td>\n      <td>Campus Energy Centre Utilities</td>\n      <td>Energy</td>\n      <td>Campus Energy Centre</td>\n      <td>Energy</td>\n      <td>r:p:ubcv:r:205b0343-70d7c00c Campus Energy Cen...</td>\n      <td>MWh</td>\n    </tr>\n  </tbody>\n</table>\n</div>"
     },
     "metadata": {},
     "execution_count": 6
    }
   ],
   "source": [
    "result.head()"
   ]
  },
  {
   "cell_type": "code",
   "execution_count": 40,
   "metadata": {},
   "outputs": [
    {
     "output_type": "stream",
     "name": "stdout",
     "text": [
      "0 2020-06-23 01:30:00+00:00 2020-09-09 21:50:00+00:00\n0 2020-06-23 01:40:33+00:00 2020-09-09 22:00:00+00:00\n0 2020-06-23 01:40:00+00:00 2020-09-09 22:01:06+00:00\n0 2020-06-23 01:40:00+00:00 2020-09-09 21:53:52+00:00\n0 2020-06-23 01:40:00+00:00 2020-09-09 21:58:25+00:00\n"
     ]
    }
   ],
   "source": [
    "# Look at date ranges and number of null values for each uniqueID\n",
    "for uid,dfm in result.groupby('uniqueID'):\n",
    "    print(dfm._value.isnull().sum(), dfm._time.min(), dfm._time.max())"
   ]
  },
  {
   "cell_type": "code",
   "execution_count": 54,
   "metadata": {},
   "outputs": [],
   "source": [
    "# Look at using the non-DataFrame query\n",
    "result2 = client.query_api().query(org=org, query=query)"
   ]
  },
  {
   "cell_type": "code",
   "execution_count": 55,
   "metadata": {},
   "outputs": [
    {
     "output_type": "execute_result",
     "data": {
      "text/plain": [
       "[<influxdb_client.client.flux_table.FluxTable at 0x22e7ab04790>,\n",
       " <influxdb_client.client.flux_table.FluxTable at 0x22e2f02b970>,\n",
       " <influxdb_client.client.flux_table.FluxTable at 0x22e01738430>,\n",
       " <influxdb_client.client.flux_table.FluxTable at 0x22e085bf100>,\n",
       " <influxdb_client.client.flux_table.FluxTable at 0x22e09570910>]"
      ]
     },
     "metadata": {},
     "execution_count": 55
    }
   ],
   "source": [
    "result2"
   ]
  },
  {
   "cell_type": "code",
   "execution_count": 56,
   "metadata": {},
   "outputs": [
    {
     "output_type": "stream",
     "name": "stdout",
     "text": [
      "1\n2\n3\n4\n5\n"
     ]
    }
   ],
   "source": [
    "# Check how many tables are returnd\n",
    "count = 0\n",
    "for table in result2:\n",
    "    count += 1\n",
    "    print(count)"
   ]
  },
  {
   "cell_type": "code",
   "execution_count": 20,
   "metadata": {},
   "outputs": [
    {
     "output_type": "execute_result",
     "data": {
      "text/plain": [
       "<influxdb_client.client.flux_table.FluxTable at 0x22e41e5ab50>"
      ]
     },
     "metadata": {},
     "execution_count": 20
    }
   ],
   "source": [
    "table"
   ]
  },
  {
   "cell_type": "code",
   "execution_count": 21,
   "metadata": {},
   "outputs": [
    {
     "output_type": "stream",
     "name": "stdout",
     "text": [
      "FluxRecord() table: 4, {'result': '_result', 'table': 4, '_start': datetime.datetime(2020, 1, 1, 0, 0, tzinfo=tzutc()), '_stop': datetime.datetime(2021, 5, 16, 15, 20, 16, 428474, tzinfo=tzutc()), '_time': datetime.datetime(2020, 6, 23, 1, 40, 33, tzinfo=tzutc()), '_value': 2.2, '_field': 'val_num', '_measurement': 'READINGS', 'equipRef': 'Campus HW Main Meter', 'groupRef': 'Campus Energy Centre Utilities', 'navName': 'Power', 'siteRef': 'Campus Energy Centre', 'typeRef': 'Power', 'uniqueID': 'r:p:ubcv:r:205b0392-31f31280 Campus Energy Centre Campus HW Main Meter Power', 'unit': 'MW'}\n"
     ]
    }
   ],
   "source": [
    "# look at an indiviual record from one of the tables\n",
    "for record in table.records:\n",
    "    print(record)\n",
    "    break"
   ]
  },
  {
   "cell_type": "code",
   "execution_count": 24,
   "metadata": {},
   "outputs": [
    {
     "output_type": "execute_result",
     "data": {
      "text/plain": [
       "                                                       0\n",
       "0      FluxRecord() table: 4, {'result': '_result', '...\n",
       "1      FluxRecord() table: 4, {'result': '_result', '...\n",
       "2      FluxRecord() table: 4, {'result': '_result', '...\n",
       "3      FluxRecord() table: 4, {'result': '_result', '...\n",
       "4      FluxRecord() table: 4, {'result': '_result', '...\n",
       "...                                                  ...\n",
       "39952  FluxRecord() table: 4, {'result': '_result', '...\n",
       "39953  FluxRecord() table: 4, {'result': '_result', '...\n",
       "39954  FluxRecord() table: 4, {'result': '_result', '...\n",
       "39955  FluxRecord() table: 4, {'result': '_result', '...\n",
       "39956  FluxRecord() table: 4, {'result': '_result', '...\n",
       "\n",
       "[39957 rows x 1 columns]"
      ],
      "text/html": "<div>\n<style scoped>\n    .dataframe tbody tr th:only-of-type {\n        vertical-align: middle;\n    }\n\n    .dataframe tbody tr th {\n        vertical-align: top;\n    }\n\n    .dataframe thead th {\n        text-align: right;\n    }\n</style>\n<table border=\"1\" class=\"dataframe\">\n  <thead>\n    <tr style=\"text-align: right;\">\n      <th></th>\n      <th>0</th>\n    </tr>\n  </thead>\n  <tbody>\n    <tr>\n      <th>0</th>\n      <td>FluxRecord() table: 4, {'result': '_result', '...</td>\n    </tr>\n    <tr>\n      <th>1</th>\n      <td>FluxRecord() table: 4, {'result': '_result', '...</td>\n    </tr>\n    <tr>\n      <th>2</th>\n      <td>FluxRecord() table: 4, {'result': '_result', '...</td>\n    </tr>\n    <tr>\n      <th>3</th>\n      <td>FluxRecord() table: 4, {'result': '_result', '...</td>\n    </tr>\n    <tr>\n      <th>4</th>\n      <td>FluxRecord() table: 4, {'result': '_result', '...</td>\n    </tr>\n    <tr>\n      <th>...</th>\n      <td>...</td>\n    </tr>\n    <tr>\n      <th>39952</th>\n      <td>FluxRecord() table: 4, {'result': '_result', '...</td>\n    </tr>\n    <tr>\n      <th>39953</th>\n      <td>FluxRecord() table: 4, {'result': '_result', '...</td>\n    </tr>\n    <tr>\n      <th>39954</th>\n      <td>FluxRecord() table: 4, {'result': '_result', '...</td>\n    </tr>\n    <tr>\n      <th>39955</th>\n      <td>FluxRecord() table: 4, {'result': '_result', '...</td>\n    </tr>\n    <tr>\n      <th>39956</th>\n      <td>FluxRecord() table: 4, {'result': '_result', '...</td>\n    </tr>\n  </tbody>\n</table>\n<p>39957 rows × 1 columns</p>\n</div>"
     },
     "metadata": {},
     "execution_count": 24
    }
   ],
   "source": [
    "# see what happens when passing to a dataframe\n",
    "pd.DataFrame(table)"
   ]
  },
  {
   "cell_type": "code",
   "execution_count": 45,
   "metadata": {},
   "outputs": [],
   "source": [
    "# look at the format of the `query_data_frame_stream()` function\n",
    "result3 = client.query_api().query_data_frame_stream(org=org, query=query)"
   ]
  },
  {
   "cell_type": "code",
   "execution_count": 46,
   "metadata": {},
   "outputs": [],
   "source": [
    "count = 0\n",
    "for table in result3:\n",
    "    count += 1"
   ]
  },
  {
   "cell_type": "code",
   "execution_count": 47,
   "metadata": {},
   "outputs": [
    {
     "output_type": "execute_result",
     "data": {
      "text/plain": [
       "1"
      ]
     },
     "metadata": {},
     "execution_count": 47
    }
   ],
   "source": [
    "count"
   ]
  },
  {
   "source": [
    "It appears to just return the same format as the non-streaming dataframe query."
   ],
   "cell_type": "markdown",
   "metadata": {}
  },
  {
   "cell_type": "code",
   "execution_count": 60,
   "metadata": {},
   "outputs": [],
   "source": [
    "# look at the streaming query\n",
    "result4 = client.query_api().query_stream(org=org, query=query)"
   ]
  },
  {
   "cell_type": "code",
   "execution_count": 61,
   "metadata": {
    "tags": []
   },
   "outputs": [],
   "source": [
    "count = 0\n",
    "for table in result4:\n",
    "    count += 1"
   ]
  },
  {
   "cell_type": "code",
   "execution_count": 62,
   "metadata": {},
   "outputs": [
    {
     "output_type": "execute_result",
     "data": {
      "text/plain": [
       "146425"
      ]
     },
     "metadata": {},
     "execution_count": 62
    }
   ],
   "source": [
    "count"
   ]
  },
  {
   "source": [
    "It returns a generator for the entire query - this could be useful if there's issues loading into memory for predictions on historical data"
   ],
   "cell_type": "markdown",
   "metadata": {}
  },
  {
   "source": [
    "## Look at queries with aggregate windows"
   ],
   "cell_type": "markdown",
   "metadata": {}
  },
  {
   "cell_type": "code",
   "execution_count": 9,
   "metadata": {},
   "outputs": [],
   "source": [
    "# Create a Flux query.\n",
    "    #Flux documentation https://docs.influxdata.com/influxdb/v2.0/reference/flux/\n",
    "    #You can generate Flux query using the Query Builder on http://206.12.92.81:8086/\n",
    "query_agg = '''from(bucket: \"SKYSPARK\")\n",
    "  |> range(start: 2020-01-01T00:00:00Z, stop: now())\n",
    "  |> filter(fn: (r) => r[\"_measurement\"] == \"READINGS\")\n",
    "  |> filter(fn: (r) => r[\"siteRef\"] == \"Campus Energy Centre\")\n",
    "  |> filter(fn: (r) => r[\"_field\"] == \"val_num\")\n",
    "  |> aggregateWindow(every: 60m, fn: mean, createEmpty: true)'''\n",
    "\n",
    "##Instantiate the query client. Specify org and query.\n",
    "result_agg = client.query_api().query_data_frame(org=org, query=query_agg)"
   ]
  },
  {
   "cell_type": "code",
   "execution_count": 10,
   "metadata": {},
   "outputs": [],
   "source": [
    "for uid,dfm in result_agg.groupby('uniqueID'):\n",
    "    break"
   ]
  },
  {
   "cell_type": "code",
   "execution_count": 11,
   "metadata": {},
   "outputs": [
    {
     "output_type": "execute_result",
     "data": {
      "text/plain": [
       "    result table                    _start                            _stop  \\\n",
       "0  _result     0 2020-01-01 00:00:00+00:00 2021-05-18 02:29:17.799309+00:00   \n",
       "1  _result     0 2020-01-01 00:00:00+00:00 2021-05-18 02:29:17.799309+00:00   \n",
       "2  _result     0 2020-01-01 00:00:00+00:00 2021-05-18 02:29:17.799309+00:00   \n",
       "3  _result     0 2020-01-01 00:00:00+00:00 2021-05-18 02:29:17.799309+00:00   \n",
       "4  _result     0 2020-01-01 00:00:00+00:00 2021-05-18 02:29:17.799309+00:00   \n",
       "\n",
       "                      _time  _value   _field _measurement  \\\n",
       "0 2020-01-01 01:00:00+00:00     NaN  val_num     READINGS   \n",
       "1 2020-01-01 02:00:00+00:00     NaN  val_num     READINGS   \n",
       "2 2020-01-01 03:00:00+00:00     NaN  val_num     READINGS   \n",
       "3 2020-01-01 04:00:00+00:00     NaN  val_num     READINGS   \n",
       "4 2020-01-01 05:00:00+00:00     NaN  val_num     READINGS   \n",
       "\n",
       "               equipRef                        groupRef navName  \\\n",
       "0  Campus HW Main Meter  Campus Energy Centre Utilities  Energy   \n",
       "1  Campus HW Main Meter  Campus Energy Centre Utilities  Energy   \n",
       "2  Campus HW Main Meter  Campus Energy Centre Utilities  Energy   \n",
       "3  Campus HW Main Meter  Campus Energy Centre Utilities  Energy   \n",
       "4  Campus HW Main Meter  Campus Energy Centre Utilities  Energy   \n",
       "\n",
       "                siteRef typeRef  \\\n",
       "0  Campus Energy Centre  Energy   \n",
       "1  Campus Energy Centre  Energy   \n",
       "2  Campus Energy Centre  Energy   \n",
       "3  Campus Energy Centre  Energy   \n",
       "4  Campus Energy Centre  Energy   \n",
       "\n",
       "                                            uniqueID unit  \n",
       "0  r:p:ubcv:r:205b0343-70d7c00c Campus Energy Cen...  MWh  \n",
       "1  r:p:ubcv:r:205b0343-70d7c00c Campus Energy Cen...  MWh  \n",
       "2  r:p:ubcv:r:205b0343-70d7c00c Campus Energy Cen...  MWh  \n",
       "3  r:p:ubcv:r:205b0343-70d7c00c Campus Energy Cen...  MWh  \n",
       "4  r:p:ubcv:r:205b0343-70d7c00c Campus Energy Cen...  MWh  "
      ],
      "text/html": "<div>\n<style scoped>\n    .dataframe tbody tr th:only-of-type {\n        vertical-align: middle;\n    }\n\n    .dataframe tbody tr th {\n        vertical-align: top;\n    }\n\n    .dataframe thead th {\n        text-align: right;\n    }\n</style>\n<table border=\"1\" class=\"dataframe\">\n  <thead>\n    <tr style=\"text-align: right;\">\n      <th></th>\n      <th>result</th>\n      <th>table</th>\n      <th>_start</th>\n      <th>_stop</th>\n      <th>_time</th>\n      <th>_value</th>\n      <th>_field</th>\n      <th>_measurement</th>\n      <th>equipRef</th>\n      <th>groupRef</th>\n      <th>navName</th>\n      <th>siteRef</th>\n      <th>typeRef</th>\n      <th>uniqueID</th>\n      <th>unit</th>\n    </tr>\n  </thead>\n  <tbody>\n    <tr>\n      <th>0</th>\n      <td>_result</td>\n      <td>0</td>\n      <td>2020-01-01 00:00:00+00:00</td>\n      <td>2021-05-18 02:29:17.799309+00:00</td>\n      <td>2020-01-01 01:00:00+00:00</td>\n      <td>NaN</td>\n      <td>val_num</td>\n      <td>READINGS</td>\n      <td>Campus HW Main Meter</td>\n      <td>Campus Energy Centre Utilities</td>\n      <td>Energy</td>\n      <td>Campus Energy Centre</td>\n      <td>Energy</td>\n      <td>r:p:ubcv:r:205b0343-70d7c00c Campus Energy Cen...</td>\n      <td>MWh</td>\n    </tr>\n    <tr>\n      <th>1</th>\n      <td>_result</td>\n      <td>0</td>\n      <td>2020-01-01 00:00:00+00:00</td>\n      <td>2021-05-18 02:29:17.799309+00:00</td>\n      <td>2020-01-01 02:00:00+00:00</td>\n      <td>NaN</td>\n      <td>val_num</td>\n      <td>READINGS</td>\n      <td>Campus HW Main Meter</td>\n      <td>Campus Energy Centre Utilities</td>\n      <td>Energy</td>\n      <td>Campus Energy Centre</td>\n      <td>Energy</td>\n      <td>r:p:ubcv:r:205b0343-70d7c00c Campus Energy Cen...</td>\n      <td>MWh</td>\n    </tr>\n    <tr>\n      <th>2</th>\n      <td>_result</td>\n      <td>0</td>\n      <td>2020-01-01 00:00:00+00:00</td>\n      <td>2021-05-18 02:29:17.799309+00:00</td>\n      <td>2020-01-01 03:00:00+00:00</td>\n      <td>NaN</td>\n      <td>val_num</td>\n      <td>READINGS</td>\n      <td>Campus HW Main Meter</td>\n      <td>Campus Energy Centre Utilities</td>\n      <td>Energy</td>\n      <td>Campus Energy Centre</td>\n      <td>Energy</td>\n      <td>r:p:ubcv:r:205b0343-70d7c00c Campus Energy Cen...</td>\n      <td>MWh</td>\n    </tr>\n    <tr>\n      <th>3</th>\n      <td>_result</td>\n      <td>0</td>\n      <td>2020-01-01 00:00:00+00:00</td>\n      <td>2021-05-18 02:29:17.799309+00:00</td>\n      <td>2020-01-01 04:00:00+00:00</td>\n      <td>NaN</td>\n      <td>val_num</td>\n      <td>READINGS</td>\n      <td>Campus HW Main Meter</td>\n      <td>Campus Energy Centre Utilities</td>\n      <td>Energy</td>\n      <td>Campus Energy Centre</td>\n      <td>Energy</td>\n      <td>r:p:ubcv:r:205b0343-70d7c00c Campus Energy Cen...</td>\n      <td>MWh</td>\n    </tr>\n    <tr>\n      <th>4</th>\n      <td>_result</td>\n      <td>0</td>\n      <td>2020-01-01 00:00:00+00:00</td>\n      <td>2021-05-18 02:29:17.799309+00:00</td>\n      <td>2020-01-01 05:00:00+00:00</td>\n      <td>NaN</td>\n      <td>val_num</td>\n      <td>READINGS</td>\n      <td>Campus HW Main Meter</td>\n      <td>Campus Energy Centre Utilities</td>\n      <td>Energy</td>\n      <td>Campus Energy Centre</td>\n      <td>Energy</td>\n      <td>r:p:ubcv:r:205b0343-70d7c00c Campus Energy Cen...</td>\n      <td>MWh</td>\n    </tr>\n  </tbody>\n</table>\n</div>"
     },
     "metadata": {},
     "execution_count": 11
    }
   ],
   "source": [
    "dfm.head()"
   ]
  },
  {
   "source": [
    "Note that if you use `createEmpty: true` in the query, it will fill all values with NaN that don't have a values in the window between the start and end dates of the query. This can result in a very large query returned if the start and end date are well before/after the beginning of the actual data."
   ],
   "cell_type": "markdown",
   "metadata": {}
  },
  {
   "source": [
    "## Write to InfluxDB testing\n",
    "\n",
    "uses a local instance of Telegraf and InfluxDB running and reading/writing cpu and mem data (for examples from /code/docker-files/two-telegraf)"
   ],
   "cell_type": "markdown",
   "metadata": {}
  },
  {
   "cell_type": "code",
   "execution_count": 28,
   "metadata": {},
   "outputs": [],
   "source": [
    "#Define a few variables with the name of your bucket, organization, and token.\n",
    "write_bucket = \"mybucket\"\n",
    "write_org = \"myorg\"\n",
    "write_token = \"mytoken\"\n",
    "write_url=\"http://localhost:8086/\""
   ]
  },
  {
   "cell_type": "code",
   "execution_count": 29,
   "metadata": {},
   "outputs": [],
   "source": [
    "#Instantiate the client.\n",
    "write_client = influxdb_client.InfluxDBClient(url=write_url, token=write_token, org=write_org)\n",
    "\n",
    "# Create a Flux query.\n",
    "    #Flux documentation https://docs.influxdata.com/influxdb/v2.0/reference/flux/\n",
    "    #You can generate Flux query using the Query Builder on http://206.12.92.81:8086/\n",
    "write_query = '''from(bucket: \"mybucket\")\n",
    "  |> range(start: -10m, stop: now())\n",
    "  |> filter(fn: (r) => r[\"_measurement\"] == \"cpu\")\n",
    "  |> filter(fn: (r) => r[\"_field\"] == \"usage_idle\")'''\n",
    "\n",
    "## Instantiate the query client. Specify org and query.\n",
    "write_result = write_client.query_api().query_data_frame(org=write_org, query=write_query)"
   ]
  },
  {
   "cell_type": "code",
   "execution_count": 31,
   "metadata": {},
   "outputs": [
    {
     "output_type": "execute_result",
     "data": {
      "text/plain": [
       "    result table                           _start  \\\n",
       "0  _result     0 2021-05-18 00:45:51.614984+00:00   \n",
       "1  _result     0 2021-05-18 00:45:51.614984+00:00   \n",
       "2  _result     0 2021-05-18 00:45:51.614984+00:00   \n",
       "3  _result     0 2021-05-18 00:45:51.614984+00:00   \n",
       "4  _result     0 2021-05-18 00:45:51.614984+00:00   \n",
       "\n",
       "                             _stop                     _time     _value  \\\n",
       "0 2021-05-18 00:55:51.614984+00:00 2021-05-18 00:46:00+00:00  99.766725   \n",
       "1 2021-05-18 00:55:51.614984+00:00 2021-05-18 00:46:10+00:00  99.741537   \n",
       "2 2021-05-18 00:55:51.614984+00:00 2021-05-18 00:46:20+00:00  99.508865   \n",
       "3 2021-05-18 00:55:51.614984+00:00 2021-05-18 00:46:30+00:00  99.683439   \n",
       "4 2021-05-18 00:55:51.614984+00:00 2021-05-18 00:46:40+00:00  99.816682   \n",
       "\n",
       "       _field _measurement        cpu          host  user  \n",
       "0  usage_idle          cpu  cpu-total  057e2ff70b33  test  \n",
       "1  usage_idle          cpu  cpu-total  057e2ff70b33  test  \n",
       "2  usage_idle          cpu  cpu-total  057e2ff70b33  test  \n",
       "3  usage_idle          cpu  cpu-total  057e2ff70b33  test  \n",
       "4  usage_idle          cpu  cpu-total  057e2ff70b33  test  "
      ],
      "text/html": "<div>\n<style scoped>\n    .dataframe tbody tr th:only-of-type {\n        vertical-align: middle;\n    }\n\n    .dataframe tbody tr th {\n        vertical-align: top;\n    }\n\n    .dataframe thead th {\n        text-align: right;\n    }\n</style>\n<table border=\"1\" class=\"dataframe\">\n  <thead>\n    <tr style=\"text-align: right;\">\n      <th></th>\n      <th>result</th>\n      <th>table</th>\n      <th>_start</th>\n      <th>_stop</th>\n      <th>_time</th>\n      <th>_value</th>\n      <th>_field</th>\n      <th>_measurement</th>\n      <th>cpu</th>\n      <th>host</th>\n      <th>user</th>\n    </tr>\n  </thead>\n  <tbody>\n    <tr>\n      <th>0</th>\n      <td>_result</td>\n      <td>0</td>\n      <td>2021-05-18 00:45:51.614984+00:00</td>\n      <td>2021-05-18 00:55:51.614984+00:00</td>\n      <td>2021-05-18 00:46:00+00:00</td>\n      <td>99.766725</td>\n      <td>usage_idle</td>\n      <td>cpu</td>\n      <td>cpu-total</td>\n      <td>057e2ff70b33</td>\n      <td>test</td>\n    </tr>\n    <tr>\n      <th>1</th>\n      <td>_result</td>\n      <td>0</td>\n      <td>2021-05-18 00:45:51.614984+00:00</td>\n      <td>2021-05-18 00:55:51.614984+00:00</td>\n      <td>2021-05-18 00:46:10+00:00</td>\n      <td>99.741537</td>\n      <td>usage_idle</td>\n      <td>cpu</td>\n      <td>cpu-total</td>\n      <td>057e2ff70b33</td>\n      <td>test</td>\n    </tr>\n    <tr>\n      <th>2</th>\n      <td>_result</td>\n      <td>0</td>\n      <td>2021-05-18 00:45:51.614984+00:00</td>\n      <td>2021-05-18 00:55:51.614984+00:00</td>\n      <td>2021-05-18 00:46:20+00:00</td>\n      <td>99.508865</td>\n      <td>usage_idle</td>\n      <td>cpu</td>\n      <td>cpu-total</td>\n      <td>057e2ff70b33</td>\n      <td>test</td>\n    </tr>\n    <tr>\n      <th>3</th>\n      <td>_result</td>\n      <td>0</td>\n      <td>2021-05-18 00:45:51.614984+00:00</td>\n      <td>2021-05-18 00:55:51.614984+00:00</td>\n      <td>2021-05-18 00:46:30+00:00</td>\n      <td>99.683439</td>\n      <td>usage_idle</td>\n      <td>cpu</td>\n      <td>cpu-total</td>\n      <td>057e2ff70b33</td>\n      <td>test</td>\n    </tr>\n    <tr>\n      <th>4</th>\n      <td>_result</td>\n      <td>0</td>\n      <td>2021-05-18 00:45:51.614984+00:00</td>\n      <td>2021-05-18 00:55:51.614984+00:00</td>\n      <td>2021-05-18 00:46:40+00:00</td>\n      <td>99.816682</td>\n      <td>usage_idle</td>\n      <td>cpu</td>\n      <td>cpu-total</td>\n      <td>057e2ff70b33</td>\n      <td>test</td>\n    </tr>\n  </tbody>\n</table>\n</div>"
     },
     "metadata": {},
     "execution_count": 31
    }
   ],
   "source": [
    "write_result.head()"
   ]
  },
  {
   "cell_type": "code",
   "execution_count": 48,
   "metadata": {},
   "outputs": [
    {
     "output_type": "execute_result",
     "data": {
      "text/plain": [
       "                           usage_idle  user  anomaly\n",
       "_time                                               \n",
       "2021-05-18 00:46:00+00:00   99.766725  test     True\n",
       "2021-05-18 00:46:10+00:00   99.741537  test     True\n",
       "2021-05-18 00:46:20+00:00   99.508865  test     True\n",
       "2021-05-18 00:46:30+00:00   99.683439  test     True\n",
       "2021-05-18 00:46:40+00:00   99.816682  test     True"
      ],
      "text/html": "<div>\n<style scoped>\n    .dataframe tbody tr th:only-of-type {\n        vertical-align: middle;\n    }\n\n    .dataframe tbody tr th {\n        vertical-align: top;\n    }\n\n    .dataframe thead th {\n        text-align: right;\n    }\n</style>\n<table border=\"1\" class=\"dataframe\">\n  <thead>\n    <tr style=\"text-align: right;\">\n      <th></th>\n      <th>usage_idle</th>\n      <th>user</th>\n      <th>anomaly</th>\n    </tr>\n    <tr>\n      <th>_time</th>\n      <th></th>\n      <th></th>\n      <th></th>\n    </tr>\n  </thead>\n  <tbody>\n    <tr>\n      <th>2021-05-18 00:46:00+00:00</th>\n      <td>99.766725</td>\n      <td>test</td>\n      <td>True</td>\n    </tr>\n    <tr>\n      <th>2021-05-18 00:46:10+00:00</th>\n      <td>99.741537</td>\n      <td>test</td>\n      <td>True</td>\n    </tr>\n    <tr>\n      <th>2021-05-18 00:46:20+00:00</th>\n      <td>99.508865</td>\n      <td>test</td>\n      <td>True</td>\n    </tr>\n    <tr>\n      <th>2021-05-18 00:46:30+00:00</th>\n      <td>99.683439</td>\n      <td>test</td>\n      <td>True</td>\n    </tr>\n    <tr>\n      <th>2021-05-18 00:46:40+00:00</th>\n      <td>99.816682</td>\n      <td>test</td>\n      <td>True</td>\n    </tr>\n  </tbody>\n</table>\n</div>"
     },
     "metadata": {},
     "execution_count": 48
    }
   ],
   "source": [
    "# transform the queried df in the format to write to InfluxDB\n",
    "output_new = write_result.copy()\n",
    "output_new.set_index(\"_time\", drop=True, inplace=True)\n",
    "output_new[\"anomaly\"] = False\n",
    "replace_name = output_new['_field'].unique()[0]\n",
    "output_new.rename(columns={'_value':replace_name}, inplace=True)\n",
    "output_new = output_new.loc[:, [replace_name, 'user']]\n",
    "output_new['anomaly'] = True\n",
    "output_new.head()"
   ]
  },
  {
   "cell_type": "code",
   "execution_count": 54,
   "metadata": {},
   "outputs": [],
   "source": [
    "# Write to InfluxDB\n",
    "write_client.write_api().write(write_bucket, write_org, record=output_new, data_frame_measurement_name=\"CHECK_ANOMALY3\", data_frame_tag_columns=[\"user\"])"
   ]
  },
  {
   "source": [
    "The above code results in a successful write in the format expected."
   ],
   "cell_type": "markdown",
   "metadata": {}
  }
 ],
 "metadata": {
  "kernelspec": {
   "name": "python3810jvsc74a57bd07d2dde933846643c70a0971eba9e216bf0ce928f2ec74020d36b05b86c71e3e9",
   "display_name": "Python 3.8.10 64-bit ('pyinfluxdb': conda)"
  },
  "language_info": {
   "codemirror_mode": {
    "name": "ipython",
    "version": 3
   },
   "file_extension": ".py",
   "mimetype": "text/x-python",
   "name": "python",
   "nbconvert_exporter": "python",
   "pygments_lexer": "ipython3",
   "version": "3.8.10"
  },
  "metadata": {
   "interpreter": {
    "hash": "7d2dde933846643c70a0971eba9e216bf0ce928f2ec74020d36b05b86c71e3e9"
   }
  }
 },
 "nbformat": 4,
 "nbformat_minor": 4
}